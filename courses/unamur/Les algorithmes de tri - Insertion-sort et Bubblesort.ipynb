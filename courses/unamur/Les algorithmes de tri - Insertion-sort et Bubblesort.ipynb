{
 "cells": [
  {
   "cell_type": "markdown",
   "metadata": {},
   "source": [
    "# Sorting Algorithms - Insertion-Sort\n",
    "\n",
    "Author: Christophe Debruyne\n",
    "\n",
    "Date: 2021-02-19"
   ]
  },
  {
   "cell_type": "markdown",
   "metadata": {},
   "source": [
    "## Creating a list of randome values\n",
    "We first create a random list of 10 elements with values raning from 1 to 6 (simulating a six-sided die). Setting a seed is useful to ensure that we generate the same random numbers on multiple executions of the code. A useful trick for when debugging code."
   ]
  },
  {
   "cell_type": "code",
   "execution_count": 1,
   "metadata": {},
   "outputs": [],
   "source": [
    "from random import seed\n",
    "from random import randint\n",
    "# seed random number generator\n",
    "seed(1)\n",
    "# array with 10 random values between 1 and 6\n",
    "arr = [ randint(1,6) for _ in range(0,10)]"
   ]
  },
  {
   "cell_type": "markdown",
   "metadata": {},
   "source": [
    "## Insertion-Sort\n",
    "This is an implementation of Insertion-Sort based on the pseudo-code of Cormen et al., 2001 (page 17). In the book, an array's index starts from 1. In Python, the arrays are 0-based. Notice that the function manipulates the array in-place before returning. The method also prints the intermediate results at the end of each iteration of the outer loop."
   ]
  },
  {
   "cell_type": "code",
   "execution_count": 2,
   "metadata": {},
   "outputs": [],
   "source": [
    "def insertion_sort(A):\n",
    "    print(f'Starting from {A}')\n",
    "    for j in range(1, len(A)):\n",
    "        key = A[j]\n",
    "        i = j - 1\n",
    "        while i >= 0 and A[i] > key:\n",
    "            A[i + 1] = A[i]\n",
    "            i = i - 1\n",
    "        A[i + 1] = key\n",
    "        print(f'for j = {j} and key = {key} we have A = {A} (innerloop executed {j - i - 1} times)')\n",
    "    return A"
   ]
  },
  {
   "cell_type": "markdown",
   "metadata": {},
   "source": [
    "Then we call the function insertion_sort and pass it the array A as an argument."
   ]
  },
  {
   "cell_type": "code",
   "execution_count": 3,
   "metadata": {
    "scrolled": true
   },
   "outputs": [
    {
     "name": "stdout",
     "output_type": "stream",
     "text": [
      "Starting from [2, 5, 1, 3, 1, 4, 4, 4, 6, 4]\n",
      "for j = 1 and key = 5 we have A = [2, 5, 1, 3, 1, 4, 4, 4, 6, 4] (innerloop executed 0 times)\n",
      "for j = 2 and key = 1 we have A = [1, 2, 5, 3, 1, 4, 4, 4, 6, 4] (innerloop executed 2 times)\n",
      "for j = 3 and key = 3 we have A = [1, 2, 3, 5, 1, 4, 4, 4, 6, 4] (innerloop executed 1 times)\n",
      "for j = 4 and key = 1 we have A = [1, 1, 2, 3, 5, 4, 4, 4, 6, 4] (innerloop executed 3 times)\n",
      "for j = 5 and key = 4 we have A = [1, 1, 2, 3, 4, 5, 4, 4, 6, 4] (innerloop executed 1 times)\n",
      "for j = 6 and key = 4 we have A = [1, 1, 2, 3, 4, 4, 5, 4, 6, 4] (innerloop executed 1 times)\n",
      "for j = 7 and key = 4 we have A = [1, 1, 2, 3, 4, 4, 4, 5, 6, 4] (innerloop executed 1 times)\n",
      "for j = 8 and key = 6 we have A = [1, 1, 2, 3, 4, 4, 4, 5, 6, 4] (innerloop executed 0 times)\n",
      "for j = 9 and key = 4 we have A = [1, 1, 2, 3, 4, 4, 4, 4, 5, 6] (innerloop executed 2 times)\n"
     ]
    },
    {
     "data": {
      "text/plain": [
       "[1, 1, 2, 3, 4, 4, 4, 4, 5, 6]"
      ]
     },
     "execution_count": 3,
     "metadata": {},
     "output_type": "execute_result"
    }
   ],
   "source": [
    "insertion_sort(arr)"
   ]
  },
  {
   "cell_type": "markdown",
   "metadata": {},
   "source": [
    "## Bubblesort\n",
    "It is up to you to implement Bubblesort according to the pseudo-code on pagae 38 of Cormen et al., 2001."
   ]
  },
  {
   "cell_type": "code",
   "execution_count": 4,
   "metadata": {},
   "outputs": [],
   "source": [
    "def bubblesort(A):\n",
    "    # CODE GOES IN HERE\n",
    "    return A"
   ]
  },
  {
   "cell_type": "code",
   "execution_count": 5,
   "metadata": {},
   "outputs": [
    {
     "data": {
      "text/plain": [
       "[2, 1, 4, 1, 4, 4, 5, 1, 6, 4]"
      ]
     },
     "execution_count": 5,
     "metadata": {},
     "output_type": "execute_result"
    }
   ],
   "source": [
    "arr2 = [ randint(1,6) for _ in range(0,10)]\n",
    "bubblesort(arr2)"
   ]
  }
 ],
 "metadata": {
  "kernelspec": {
   "display_name": "Python 3",
   "language": "python",
   "name": "python3"
  },
  "language_info": {
   "codemirror_mode": {
    "name": "ipython",
    "version": 3
   },
   "file_extension": ".py",
   "mimetype": "text/x-python",
   "name": "python",
   "nbconvert_exporter": "python",
   "pygments_lexer": "ipython3",
   "version": "3.8.5"
  }
 },
 "nbformat": 4,
 "nbformat_minor": 4
}
