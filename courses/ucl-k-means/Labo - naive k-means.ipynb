{
 "cells": [
  {
   "cell_type": "markdown",
   "metadata": {},
   "source": [
    "## Labo: k-means\n",
    "\n",
    "Christophe Debruyne"
   ]
  },
  {
   "cell_type": "markdown",
   "metadata": {},
   "source": [
    "Disable autoscrolling so that we can see the output in full."
   ]
  },
  {
   "cell_type": "code",
   "execution_count": null,
   "metadata": {},
   "outputs": [],
   "source": [
    "%%javascript\n",
    "IPython.OutputArea.prototype._should_scroll = function(lines) {\n",
    "    return false;\n",
    "}"
   ]
  },
  {
   "cell_type": "markdown",
   "metadata": {},
   "source": [
    "Imports\n",
    "* Numpy provides us classes and functions to easily work with mathematical arrays.\n",
    "* Matplotlib for plotting the scatterplots.\n",
    "* scipy.spatial has a library for plotting vonoroi diagrams. Be careful, the library requires at least three points in a two-dimensional space.\n",
    "* random is used to generate some random points further down this exercise. "
   ]
  },
  {
   "cell_type": "code",
   "execution_count": null,
   "metadata": {},
   "outputs": [],
   "source": [
    "import numpy as np\n",
    "import matplotlib.pyplot as plt\n",
    "from scipy.spatial import Voronoi, voronoi_plot_2d\n",
    "import random"
   ]
  },
  {
   "cell_type": "markdown",
   "metadata": {},
   "source": [
    "We will first a very simple array with 9 points to develop k-means"
   ]
  },
  {
   "cell_type": "code",
   "execution_count": null,
   "metadata": {
    "scrolled": false
   },
   "outputs": [],
   "source": [
    "X = np.array([ [1,3], [2,2], [2,4], [3,3], [4,3], [5,3], [6,2], [6,4], [7,3] ])\n",
    "plt.scatter(X[:,0], X[:,1])\n",
    "plt.show()"
   ]
  },
  {
   "cell_type": "markdown",
   "metadata": {},
   "source": [
    "Here are the three methods for the k-means algorithm:\n",
    "* k_means is the main algorithm and calls assign and update which you have to implement\n",
    "* assign to assign centroids to points\n",
    "* update to recompute the centroids based on the assignment\n",
    "\n",
    "There are also to methods for printing the results:\n",
    "* plot_results, which you can call after running k_means\n",
    "* plot_vonoroi, to plot the vonoroi diagram (when you have k >= 3)"
   ]
  },
  {
   "cell_type": "code",
   "execution_count": null,
   "metadata": {},
   "outputs": [],
   "source": [
    "def k_means(X, k=2, max_iterations=100):\n",
    "    \"\"\"\n",
    "        Input: \n",
    "        - X, a numpy.array of points\n",
    "        - k, a number >= 2 of clusters to be found\n",
    "        - max_iterations to ensure the algorithm stops if the \n",
    "          results were not to converge soon enough\n",
    "          \n",
    "        You may assume that input is valid. There is thus no need for validation.\n",
    "        Try to ensure your code can work with points of n >= 2 length. Again, you\n",
    "        may assume that all points in X have the same length.\n",
    "        \n",
    "        Output:\n",
    "        - assignment, a numpy.array containing the index of the centroid (in centroids).\n",
    "                      the ith element in assignment will refer to the centroid of the\n",
    "                      ith point in X\n",
    "        - centroids, a numpy.array of points containing the centroids\n",
    "    \"\"\"\n",
    "    centroids = X[random.sample(range(0, len(X)), k)]\n",
    "\n",
    "    # You can uncomment the following three lines to plot the scatterplot and the\n",
    "    # randomly chosen centroids:\n",
    "    #plt.scatter(X[:,0], X[:,1])\n",
    "    #plt.scatter(centroids[:,0], centroids[:,1], marker='x', c='red', s=200)    \n",
    "    #plt.show()   \n",
    "    \n",
    "    assignment = None\n",
    "    \n",
    "    for i in range(max_iterations):\n",
    "        old_assignment = assignment\n",
    "\n",
    "        assignment = assign(X, centroids)\n",
    "        \n",
    "        # You can uncomment the following three lines to plot the clusters\n",
    "        # in each iteration:\n",
    "        #plt.scatter(X[:,0], X[:,1], c=assignment)\n",
    "        #plt.scatter(centroids[:,0], centroids[:,1], marker='x', c='red', s=200)    \n",
    "        #plt.show()\n",
    "        \n",
    "        centroids = update(X, assignment)            \n",
    "\n",
    "        if np.array_equal(old_assignment, assignment):\n",
    "            print(f'We found a solution after {i} iterations:')\n",
    "            break\n",
    "            \n",
    "    return assignment, centroids"
   ]
  },
  {
   "cell_type": "code",
   "execution_count": null,
   "metadata": {},
   "outputs": [],
   "source": [
    "def assign(X, centroids):\n",
    "    \"\"\"\n",
    "        Input: \n",
    "        - X, a numpy.array of points\n",
    "        - centroids, a numpy.array of centroids (also points)\n",
    "        \n",
    "        Output:\n",
    "        - a numpy.array of length len(X) which contains at index i the index of \n",
    "          the centroid that the ith x in X is closest to (euclidian distance)\n",
    "    \"\"\"\n",
    "    \n",
    "    ### BEGIN REPLACE THIS CODE\n",
    "    # This just generates a random assignment, allowing you to run the code :-)\n",
    "    assignment = [ random.randint(0, len(centroids) - 1) for i in range(len(X)) ]\n",
    "    ### END REPLACE THIS CODE\n",
    "    return np.array(assignment)"
   ]
  },
  {
   "cell_type": "code",
   "execution_count": null,
   "metadata": {
    "scrolled": true
   },
   "outputs": [],
   "source": [
    "def update(X, assignment):\n",
    "    \"\"\"\n",
    "        Input:\n",
    "        - X, a numpy.array of points\n",
    "        - assignment, a numpy.array containing the index of centroids for\n",
    "          each corresponding x in X\n",
    "        \n",
    "        Output:\n",
    "        - a numpy.array that contain the new centroids (based on computing the means)\n",
    "    \"\"\"\n",
    "    \n",
    "    ### BEGIN REPLACE THIS CODE\n",
    "    # This just randomly choses k points as the new centroids, allowing you the run the code :-)\n",
    "    k = len(np.unique(assignment)) # look for unique values in k\n",
    "    centroids = X[:k]\n",
    "    ### END REPLACE THIS CODE\n",
    "    return np.array(centroids)"
   ]
  },
  {
   "cell_type": "code",
   "execution_count": null,
   "metadata": {},
   "outputs": [],
   "source": [
    "def plot_results(X, assignment, centroids):\n",
    "    \"\"\"Plot the points and the centroids. Colors are based on the assignment.\"\"\"\n",
    "    \n",
    "    print(\"The result is:\")\n",
    "    \n",
    "    for k in np.unique(assignment):\n",
    "        # Indexes of points classified as k\n",
    "        indices = np.where(assignment == k)\n",
    "        count = len(X[indices])\n",
    "        print(f'Cluster {k + 1} with centroid {centroids[k]} groups {count} points.')\n",
    "        \n",
    "    plt.scatter(X[:,0], X[:,1], c=assignment)\n",
    "    plt.scatter(centroids[:,0], centroids[:,1], marker='x', c='red', s=200)    \n",
    "    \n",
    "    plt.show()"
   ]
  },
  {
   "cell_type": "code",
   "execution_count": null,
   "metadata": {},
   "outputs": [],
   "source": [
    "def plot_vonoroi(X, assignment, centroids):\n",
    "    \"\"\"Plot the points and the centroids. Colors are based on the assignment. The centroids are used\n",
    "       for the vonoroi diagram. Note that this library requires at least three points.\"\"\"\n",
    "    \n",
    "    if len(centroids) > 2:\n",
    "        vor = Voronoi(centroids)\n",
    "        fig = voronoi_plot_2d(vor, show_points=False)    \n",
    "        plt.scatter(X[:,0], X[:,1], c=assignment)\n",
    "        plt.scatter(centroids[:,0], centroids[:,1], marker='x', c='red', s=200)  \n",
    "        plt.show()\n",
    "    else:\n",
    "        print(f'Cannot plot vonori diagram for {len(centroids)} points.')"
   ]
  },
  {
   "cell_type": "markdown",
   "metadata": {},
   "source": [
    "Now execute k_means with our toy example and plot the results. Note that a vonoroi diagram cannot be shown here. The vonoroi diagram might also fail when there are not enough points."
   ]
  },
  {
   "cell_type": "code",
   "execution_count": null,
   "metadata": {},
   "outputs": [],
   "source": [
    "assignment, centroids = k_means(X, 2, 100)\n",
    "plot_results(X, assignment, centroids)\n",
    "plot_vonoroi(X, assignment, centroids)"
   ]
  },
  {
   "cell_type": "code",
   "execution_count": null,
   "metadata": {},
   "outputs": [],
   "source": [
    "X = np.random.rand(100,2)\n",
    "plt.scatter(X[:,0], X[:,1])\n",
    "plt.show()"
   ]
  },
  {
   "cell_type": "markdown",
   "metadata": {},
   "source": [
    "Now let's generate 100 random points and cluster them into three groups."
   ]
  },
  {
   "cell_type": "code",
   "execution_count": null,
   "metadata": {},
   "outputs": [],
   "source": [
    "assignment, centroids = k_means(X, 3, 100)\n",
    "plot_results(X, assignment, centroids)\n",
    "plot_vonoroi(X, assignment, centroids)"
   ]
  },
  {
   "cell_type": "markdown",
   "metadata": {},
   "source": [
    "In this example, we generate three random clusters. The k_means algorithm should be able to reconstitute those clusters. Outliers in each cluster may be assigned to the wrong cluster, though. I encourage you to play with the scales and location of each cluster to better grasp the algorithm and its limitations."
   ]
  },
  {
   "cell_type": "code",
   "execution_count": null,
   "metadata": {
    "scrolled": true
   },
   "outputs": [],
   "source": [
    "a = np.random.normal(loc=[5, 5], scale=[0.5, 0.5], size=(100, 2))\n",
    "b = np.random.normal(loc=[7, 9], scale=[1, 1], size=(100, 2))\n",
    "c = np.random.normal(loc=[5, 9], scale=[1, 1], size=(100, 2))\n",
    "X = np.append(a, b, axis=0)\n",
    "X = np.append(X, c, axis=0)\n",
    "\n",
    "assignment, centroids = k_means(X, 3, 100)\n",
    "plot_results(X, assignment, centroids)\n",
    "plot_vonoroi(X, assignment, centroids)"
   ]
  }
 ],
 "metadata": {
  "kernelspec": {
   "display_name": "Python 3",
   "language": "python",
   "name": "python3"
  },
  "language_info": {
   "codemirror_mode": {
    "name": "ipython",
    "version": 3
   },
   "file_extension": ".py",
   "mimetype": "text/x-python",
   "name": "python",
   "nbconvert_exporter": "python",
   "pygments_lexer": "ipython3",
   "version": "3.8.5"
  }
 },
 "nbformat": 4,
 "nbformat_minor": 4
}
